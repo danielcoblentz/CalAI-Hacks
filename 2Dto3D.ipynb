{
 "cells": [
  {
   "cell_type": "code",
   "execution_count": 13,
   "metadata": {},
   "outputs": [
    {
     "name": "stdout",
     "output_type": "stream",
     "text": [
      "Requirement already satisfied: torch in /opt/anaconda3/lib/python3.12/site-packages (2.7.1)\n",
      "Requirement already satisfied: torchvision in /opt/anaconda3/lib/python3.12/site-packages (0.22.1)\n",
      "Requirement already satisfied: opencv-python in /opt/anaconda3/lib/python3.12/site-packages (4.11.0.86)\n",
      "Requirement already satisfied: open3d in /opt/anaconda3/lib/python3.12/site-packages (0.19.0)\n",
      "Requirement already satisfied: timm in /opt/anaconda3/lib/python3.12/site-packages (1.0.15)\n",
      "Requirement already satisfied: matplotlib in /opt/anaconda3/lib/python3.12/site-packages (3.9.2)\n",
      "Requirement already satisfied: pillow in /opt/anaconda3/lib/python3.12/site-packages (10.4.0)\n",
      "Requirement already satisfied: filelock in /opt/anaconda3/lib/python3.12/site-packages (from torch) (3.13.1)\n",
      "Requirement already satisfied: typing-extensions>=4.10.0 in /opt/anaconda3/lib/python3.12/site-packages (from torch) (4.11.0)\n",
      "Requirement already satisfied: setuptools in /opt/anaconda3/lib/python3.12/site-packages (from torch) (75.1.0)\n",
      "Requirement already satisfied: sympy>=1.13.3 in /opt/anaconda3/lib/python3.12/site-packages (from torch) (1.14.0)\n",
      "Requirement already satisfied: networkx in /opt/anaconda3/lib/python3.12/site-packages (from torch) (3.3)\n",
      "Requirement already satisfied: jinja2 in /opt/anaconda3/lib/python3.12/site-packages (from torch) (3.1.4)\n",
      "Requirement already satisfied: fsspec in /opt/anaconda3/lib/python3.12/site-packages (from torch) (2024.6.1)\n",
      "Requirement already satisfied: numpy in /opt/anaconda3/lib/python3.12/site-packages (from torchvision) (1.26.4)\n",
      "Requirement already satisfied: dash>=2.6.0 in /opt/anaconda3/lib/python3.12/site-packages (from open3d) (3.0.4)\n",
      "Requirement already satisfied: werkzeug>=3.0.0 in /opt/anaconda3/lib/python3.12/site-packages (from open3d) (3.0.3)\n",
      "Requirement already satisfied: flask>=3.0.0 in /opt/anaconda3/lib/python3.12/site-packages (from open3d) (3.0.3)\n",
      "Requirement already satisfied: nbformat>=5.7.0 in /opt/anaconda3/lib/python3.12/site-packages (from open3d) (5.10.4)\n",
      "Requirement already satisfied: configargparse in /opt/anaconda3/lib/python3.12/site-packages (from open3d) (1.7.1)\n",
      "Requirement already satisfied: addict in /opt/anaconda3/lib/python3.12/site-packages (from open3d) (2.4.0)\n",
      "Requirement already satisfied: pandas>=1.0 in /opt/anaconda3/lib/python3.12/site-packages (from open3d) (2.2.2)\n",
      "Requirement already satisfied: pyyaml>=5.4.1 in /opt/anaconda3/lib/python3.12/site-packages (from open3d) (6.0.1)\n",
      "Requirement already satisfied: scikit-learn>=0.21 in /opt/anaconda3/lib/python3.12/site-packages (from open3d) (1.5.1)\n",
      "Requirement already satisfied: tqdm in /opt/anaconda3/lib/python3.12/site-packages (from open3d) (4.66.5)\n",
      "Requirement already satisfied: pyquaternion in /opt/anaconda3/lib/python3.12/site-packages (from open3d) (0.9.9)\n",
      "Requirement already satisfied: huggingface_hub in /opt/anaconda3/lib/python3.12/site-packages (from timm) (0.33.0)\n",
      "Requirement already satisfied: safetensors in /opt/anaconda3/lib/python3.12/site-packages (from timm) (0.5.3)\n",
      "Requirement already satisfied: contourpy>=1.0.1 in /opt/anaconda3/lib/python3.12/site-packages (from matplotlib) (1.2.0)\n",
      "Requirement already satisfied: cycler>=0.10 in /opt/anaconda3/lib/python3.12/site-packages (from matplotlib) (0.11.0)\n",
      "Requirement already satisfied: fonttools>=4.22.0 in /opt/anaconda3/lib/python3.12/site-packages (from matplotlib) (4.51.0)\n",
      "Requirement already satisfied: kiwisolver>=1.3.1 in /opt/anaconda3/lib/python3.12/site-packages (from matplotlib) (1.4.4)\n",
      "Requirement already satisfied: packaging>=20.0 in /opt/anaconda3/lib/python3.12/site-packages (from matplotlib) (24.1)\n",
      "Requirement already satisfied: pyparsing>=2.3.1 in /opt/anaconda3/lib/python3.12/site-packages (from matplotlib) (3.1.2)\n",
      "Requirement already satisfied: python-dateutil>=2.7 in /opt/anaconda3/lib/python3.12/site-packages (from matplotlib) (2.9.0.post0)\n",
      "Requirement already satisfied: plotly>=5.0.0 in /opt/anaconda3/lib/python3.12/site-packages (from dash>=2.6.0->open3d) (5.24.1)\n",
      "Requirement already satisfied: importlib-metadata in /opt/anaconda3/lib/python3.12/site-packages (from dash>=2.6.0->open3d) (7.0.1)\n",
      "Requirement already satisfied: requests in /opt/anaconda3/lib/python3.12/site-packages (from dash>=2.6.0->open3d) (2.32.3)\n",
      "Requirement already satisfied: retrying in /opt/anaconda3/lib/python3.12/site-packages (from dash>=2.6.0->open3d) (1.3.4)\n",
      "Requirement already satisfied: nest-asyncio in /opt/anaconda3/lib/python3.12/site-packages (from dash>=2.6.0->open3d) (1.6.0)\n",
      "Requirement already satisfied: itsdangerous>=2.1.2 in /opt/anaconda3/lib/python3.12/site-packages (from flask>=3.0.0->open3d) (2.2.0)\n",
      "Requirement already satisfied: click>=8.1.3 in /opt/anaconda3/lib/python3.12/site-packages (from flask>=3.0.0->open3d) (8.1.7)\n",
      "Requirement already satisfied: blinker>=1.6.2 in /opt/anaconda3/lib/python3.12/site-packages (from flask>=3.0.0->open3d) (1.6.2)\n",
      "Requirement already satisfied: MarkupSafe>=2.0 in /opt/anaconda3/lib/python3.12/site-packages (from jinja2->torch) (2.1.3)\n",
      "Requirement already satisfied: fastjsonschema>=2.15 in /opt/anaconda3/lib/python3.12/site-packages (from nbformat>=5.7.0->open3d) (2.16.2)\n",
      "Requirement already satisfied: jsonschema>=2.6 in /opt/anaconda3/lib/python3.12/site-packages (from nbformat>=5.7.0->open3d) (4.23.0)\n",
      "Requirement already satisfied: jupyter-core!=5.0.*,>=4.12 in /opt/anaconda3/lib/python3.12/site-packages (from nbformat>=5.7.0->open3d) (5.7.2)\n",
      "Requirement already satisfied: traitlets>=5.1 in /opt/anaconda3/lib/python3.12/site-packages (from nbformat>=5.7.0->open3d) (5.14.3)\n",
      "Requirement already satisfied: pytz>=2020.1 in /opt/anaconda3/lib/python3.12/site-packages (from pandas>=1.0->open3d) (2024.1)\n",
      "Requirement already satisfied: tzdata>=2022.7 in /opt/anaconda3/lib/python3.12/site-packages (from pandas>=1.0->open3d) (2023.3)\n",
      "Requirement already satisfied: six>=1.5 in /opt/anaconda3/lib/python3.12/site-packages (from python-dateutil>=2.7->matplotlib) (1.16.0)\n",
      "Requirement already satisfied: scipy>=1.6.0 in /opt/anaconda3/lib/python3.12/site-packages (from scikit-learn>=0.21->open3d) (1.15.2)\n",
      "Requirement already satisfied: joblib>=1.2.0 in /opt/anaconda3/lib/python3.12/site-packages (from scikit-learn>=0.21->open3d) (1.4.2)\n",
      "Requirement already satisfied: threadpoolctl>=3.1.0 in /opt/anaconda3/lib/python3.12/site-packages (from scikit-learn>=0.21->open3d) (3.5.0)\n",
      "Requirement already satisfied: mpmath<1.4,>=1.1.0 in /opt/anaconda3/lib/python3.12/site-packages (from sympy>=1.13.3->torch) (1.3.0)\n",
      "Requirement already satisfied: hf-xet<2.0.0,>=1.1.2 in /opt/anaconda3/lib/python3.12/site-packages (from huggingface_hub->timm) (1.1.5)\n",
      "Requirement already satisfied: attrs>=22.2.0 in /opt/anaconda3/lib/python3.12/site-packages (from jsonschema>=2.6->nbformat>=5.7.0->open3d) (23.1.0)\n",
      "Requirement already satisfied: jsonschema-specifications>=2023.03.6 in /opt/anaconda3/lib/python3.12/site-packages (from jsonschema>=2.6->nbformat>=5.7.0->open3d) (2023.7.1)\n",
      "Requirement already satisfied: referencing>=0.28.4 in /opt/anaconda3/lib/python3.12/site-packages (from jsonschema>=2.6->nbformat>=5.7.0->open3d) (0.30.2)\n",
      "Requirement already satisfied: rpds-py>=0.7.1 in /opt/anaconda3/lib/python3.12/site-packages (from jsonschema>=2.6->nbformat>=5.7.0->open3d) (0.10.6)\n",
      "Requirement already satisfied: platformdirs>=2.5 in /opt/anaconda3/lib/python3.12/site-packages (from jupyter-core!=5.0.*,>=4.12->nbformat>=5.7.0->open3d) (3.10.0)\n",
      "Requirement already satisfied: tenacity>=6.2.0 in /opt/anaconda3/lib/python3.12/site-packages (from plotly>=5.0.0->dash>=2.6.0->open3d) (8.2.3)\n",
      "Requirement already satisfied: zipp>=0.5 in /opt/anaconda3/lib/python3.12/site-packages (from importlib-metadata->dash>=2.6.0->open3d) (3.17.0)\n",
      "Requirement already satisfied: charset-normalizer<4,>=2 in /opt/anaconda3/lib/python3.12/site-packages (from requests->dash>=2.6.0->open3d) (3.3.2)\n",
      "Requirement already satisfied: idna<4,>=2.5 in /opt/anaconda3/lib/python3.12/site-packages (from requests->dash>=2.6.0->open3d) (3.7)\n",
      "Requirement already satisfied: urllib3<3,>=1.21.1 in /opt/anaconda3/lib/python3.12/site-packages (from requests->dash>=2.6.0->open3d) (2.2.3)\n",
      "Requirement already satisfied: certifi>=2017.4.17 in /opt/anaconda3/lib/python3.12/site-packages (from requests->dash>=2.6.0->open3d) (2025.1.31)\n",
      "Note: you may need to restart the kernel to use updated packages.\n"
     ]
    }
   ],
   "source": [
    "pip install torch torchvision opencv-python open3d timm matplotlib pillow"
   ]
  },
  {
   "cell_type": "code",
   "execution_count": 14,
   "metadata": {},
   "outputs": [],
   "source": [
    "import cv2\n",
    "import torch\n",
    "import numpy as np\n",
    "import open3d as o3d\n",
    "from PIL import Image\n",
    "from torchvision.transforms import Compose, Resize, ToTensor, Normalize\n",
    "import matplotlib.pyplot as plt"
   ]
  },
  {
   "cell_type": "code",
   "execution_count": 19,
   "metadata": {},
   "outputs": [
    {
     "name": "stderr",
     "output_type": "stream",
     "text": [
      "Using cache found in /Users/rexouyang/.cache/torch/hub/intel-isl_MiDaS_master\n",
      "Using cache found in /Users/rexouyang/.cache/torch/hub/intel-isl_MiDaS_master\n"
     ]
    }
   ],
   "source": [
    "img_path = \"tomandjerry.jpeg\"\n",
    "img_bgr = cv2.imread(img_path)\n",
    "img_rgb = cv2.cvtColor(img_bgr, cv2.COLOR_BGR2RGB)\n",
    "img_pil = Image.fromarray(img_rgb)\n",
    "\n",
    "# Convert PIL to NumPy array\n",
    "img_np = np.array(img_pil)\n",
    "\n",
    "# Load MiDaS\n",
    "midas = torch.hub.load(\"intel-isl/MiDaS\", \"DPT_Hybrid\", trust_repo=True)\n",
    "midas.eval()\n",
    "midas_transforms = torch.hub.load(\"intel-isl/MiDaS\", \"transforms\").dpt_transform\n",
    "\n",
    "# Transform and predict\n",
    "input_batch = midas_transforms(img_np)\n",
    "with torch.no_grad():\n",
    "    prediction = midas(input_batch)\n",
    "    depth = prediction.squeeze().cpu().numpy()\n",
    "\n",
    "# Combine with original RGB\n",
    "depth_resized = cv2.resize(depth, (img_rgb.shape[1], img_rgb.shape[0]))\n",
    "encoded_matrix = np.dstack((img_rgb, depth_resized))  # (H, W, 4)"
   ]
  },
  {
   "cell_type": "code",
   "execution_count": 20,
   "metadata": {},
   "outputs": [
    {
     "name": "stdout",
     "output_type": "stream",
     "text": [
      "[[[ 125.       183.       197.       444.9362 ]\n",
      "  [ 126.       184.       198.       441.46848]\n",
      "  [ 127.       183.       198.       441.10468]\n",
      "  ...\n",
      "  [  97.       175.       213.       920.7736 ]\n",
      "  [  97.       175.       213.       871.28687]\n",
      "  [  84.       162.       200.       724.78827]]\n",
      "\n",
      " [[ 125.       183.       197.       438.27927]\n",
      "  [ 125.       183.       197.       443.49152]\n",
      "  [ 126.       182.       197.       445.95197]\n",
      "  ...\n",
      "  [  97.       175.       213.       925.1483 ]\n",
      "  [  97.       175.       213.       909.4141 ]\n",
      "  [  84.       162.       200.       877.2552 ]]\n",
      "\n",
      " [[ 124.       182.       196.       446.52936]\n",
      "  [ 124.       182.       196.       449.49225]\n",
      "  [ 126.       182.       197.       450.96213]\n",
      "  ...\n",
      "  [  97.       175.       213.       932.0784 ]\n",
      "  [  97.       175.       213.       927.3466 ]\n",
      "  [  84.       162.       200.       923.58887]]\n",
      "\n",
      " ...\n",
      "\n",
      " [[ 179.       130.       160.      1614.242  ]\n",
      "  [ 178.       129.       159.      1616.4381 ]\n",
      "  [ 176.       127.       157.      1616.6512 ]\n",
      "  ...\n",
      "  [ 107.       177.       211.       348.92105]\n",
      "  [ 106.       176.       210.       350.04727]\n",
      "  [ 104.       177.       210.       351.1032 ]]\n",
      "\n",
      " [[ 174.       128.       157.      1618.9703 ]\n",
      "  [ 173.       127.       156.      1619.629  ]\n",
      "  [ 173.       127.       156.      1619.9509 ]\n",
      "  ...\n",
      "  [ 111.       179.       214.       348.95486]\n",
      "  [ 112.       180.       215.       349.87888]\n",
      "  [ 112.       182.       216.       348.19104]]\n",
      "\n",
      " [[ 174.       128.       157.      1617.4204 ]\n",
      "  [ 173.       127.       156.      1620.5767 ]\n",
      "  [ 172.       127.       156.      1620.0549 ]\n",
      "  ...\n",
      "  [ 111.       179.       214.       350.5519 ]\n",
      "  [ 112.       180.       215.       347.79236]\n",
      "  [ 113.       181.       216.       343.49646]]]\n"
     ]
    }
   ],
   "source": [
    "print(encoded_matrix)"
   ]
  },
  {
   "cell_type": "code",
   "execution_count": null,
   "metadata": {},
   "outputs": [],
   "source": []
  },
  {
   "cell_type": "code",
   "execution_count": null,
   "metadata": {},
   "outputs": [],
   "source": []
  }
 ],
 "metadata": {
  "kernelspec": {
   "display_name": "base",
   "language": "python",
   "name": "python3"
  },
  "language_info": {
   "codemirror_mode": {
    "name": "ipython",
    "version": 3
   },
   "file_extension": ".py",
   "mimetype": "text/x-python",
   "name": "python",
   "nbconvert_exporter": "python",
   "pygments_lexer": "ipython3",
   "version": "3.12.7"
  }
 },
 "nbformat": 4,
 "nbformat_minor": 2
}
